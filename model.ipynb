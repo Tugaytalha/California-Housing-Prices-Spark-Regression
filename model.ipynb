{
  "cells": [
    {
      "cell_type": "code",
      "execution_count": 154,
      "id": "initial_id",
      "metadata": {
        "collapsed": true,
        "ExecuteTime": {
          "end_time": "2024-03-31T10:26:33.863523400Z",
          "start_time": "2024-03-31T10:26:33.854523800Z"
        },
        "colab": {
          "base_uri": "https://localhost:8080/"
        },
        "id": "initial_id",
        "outputId": "e16def90-21a7-4571-8a8d-89eca99735fb"
      },
      "outputs": [
        {
          "output_type": "stream",
          "name": "stdout",
          "text": [
            "Requirement already satisfied: pyspark in /usr/local/lib/python3.10/dist-packages (3.5.1)\n",
            "Requirement already satisfied: py4j==0.10.9.7 in /usr/local/lib/python3.10/dist-packages (from pyspark) (0.10.9.7)\n"
          ]
        }
      ],
      "source": [
        "!pip install pyspark\n",
        "from pyspark.sql import SparkSession\n",
        "from pyspark.ml.feature import VectorAssembler, StandardScaler, OneHotEncoder, StringIndexer\n",
        "from pyspark.ml.regression import LinearRegression, RandomForestRegressor, GBTRegressor, DecisionTreeRegressor, GeneralizedLinearRegression, IsotonicRegression, AFTSurvivalRegression, FMRegressor\n",
        "from pyspark.ml.evaluation import RegressionEvaluator\n",
        "import numpy as np\n"
      ]
    },
    {
      "cell_type": "code",
      "source": [
        "import os\n",
        "import sys\n",
        "\n",
        "os.environ['PYSPARK_PYTHON'] = sys.executable\n",
        "os.environ['PYSPARK_DRIVER_PYTHON'] = sys.executable"
      ],
      "metadata": {
        "id": "NIcRMe9NNJyc"
      },
      "id": "NIcRMe9NNJyc",
      "execution_count": 155,
      "outputs": []
    },
    {
      "cell_type": "code",
      "execution_count": 156,
      "outputs": [],
      "source": [
        "# Create SparkSession\n",
        "spark = SparkSession.builder.master('local').appName(\"HousePricePrediction\").getOrCreate()"
      ],
      "metadata": {
        "ExecuteTime": {
          "end_time": "2024-03-31T10:27:03.839969200Z",
          "start_time": "2024-03-31T10:26:34.166918500Z"
        },
        "id": "479028078e97703b"
      },
      "id": "479028078e97703b"
    },
    {
      "cell_type": "code",
      "execution_count": 157,
      "outputs": [],
      "source": [
        "# Load data from CSV file\n",
        "data = spark.read.csv(\"housing.csv\", header=True, inferSchema=True)"
      ],
      "metadata": {
        "id": "b8a38c433d043acc"
      },
      "id": "b8a38c433d043acc"
    },
    {
      "cell_type": "code",
      "execution_count": 158,
      "outputs": [
        {
          "output_type": "stream",
          "name": "stdout",
          "text": [
            "root\n",
            " |-- longitude: double (nullable = true)\n",
            " |-- latitude: double (nullable = true)\n",
            " |-- housing_median_age: double (nullable = true)\n",
            " |-- total_rooms: double (nullable = true)\n",
            " |-- total_bedrooms: double (nullable = true)\n",
            " |-- population: double (nullable = true)\n",
            " |-- households: double (nullable = true)\n",
            " |-- median_income: double (nullable = true)\n",
            " |-- median_house_value: double (nullable = true)\n",
            " |-- ocean_proximity: string (nullable = true)\n",
            "\n",
            "+---------+--------+------------------+-----------+--------------+----------+----------+-------------+------------------+---------------+\n",
            "|longitude|latitude|housing_median_age|total_rooms|total_bedrooms|population|households|median_income|median_house_value|ocean_proximity|\n",
            "+---------+--------+------------------+-----------+--------------+----------+----------+-------------+------------------+---------------+\n",
            "|  -122.23|   37.88|              41.0|      880.0|         129.0|     322.0|     126.0|       8.3252|          452600.0|       NEAR BAY|\n",
            "|  -122.22|   37.86|              21.0|     7099.0|        1106.0|    2401.0|    1138.0|       8.3014|          358500.0|       NEAR BAY|\n",
            "|  -122.24|   37.85|              52.0|     1467.0|         190.0|     496.0|     177.0|       7.2574|          352100.0|       NEAR BAY|\n",
            "|  -122.25|   37.85|              52.0|     1274.0|         235.0|     558.0|     219.0|       5.6431|          341300.0|       NEAR BAY|\n",
            "|  -122.25|   37.85|              52.0|     1627.0|         280.0|     565.0|     259.0|       3.8462|          342200.0|       NEAR BAY|\n",
            "+---------+--------+------------------+-----------+--------------+----------+----------+-------------+------------------+---------------+\n",
            "only showing top 5 rows\n",
            "\n",
            "Total number of rows: 20640\n",
            "Unique values in ocean_proximity:\n",
            "+---------------+\n",
            "|ocean_proximity|\n",
            "+---------------+\n",
            "|         ISLAND|\n",
            "|     NEAR OCEAN|\n",
            "|       NEAR BAY|\n",
            "|      <1H OCEAN|\n",
            "|         INLAND|\n",
            "+---------------+\n",
            "\n",
            "NA rate in longitude: 0.0\n",
            "NA rate in latitude: 0.0\n",
            "NA rate in housing_median_age: 0.0\n",
            "NA rate in total_rooms: 0.0\n",
            "NA rate in total_bedrooms: 0.01002906976744186\n",
            "NA rate in population: 0.0\n",
            "NA rate in households: 0.0\n",
            "NA rate in median_income: 0.0\n",
            "NA rate in median_house_value: 0.0\n",
            "NA rate in ocean_proximity: 0.0\n"
          ]
        }
      ],
      "source": [
        "# Step 3: Analyze the data\n",
        "data.printSchema()\n",
        "data.show(5)\n",
        "print(\"Total number of rows:\", data.count())\n",
        "\n",
        "for col in [\"ocean_proximity\"]:\n",
        "    print(f\"Unique values in {col}:\")\n",
        "    data.select(col).distinct().show()\n",
        "\n",
        "for col in data.columns:\n",
        "    print(f\"NA rate in {col}: {data.filter(data[col].isNull()).count() / data.count()}\")"
      ],
      "metadata": {
        "ExecuteTime": {
          "start_time": "2024-03-31T10:06:24.193181600Z"
        },
        "colab": {
          "base_uri": "https://localhost:8080/"
        },
        "id": "3fd84c4a85ac095a",
        "outputId": "d99411f3-cd76-4979-bfc5-9f83b4a8506f"
      },
      "id": "3fd84c4a85ac095a"
    },
    {
      "cell_type": "code",
      "source": [
        "# Do one-hot encoding for categorical columns\n",
        "indexer = StringIndexer(inputCol=\"ocean_proximity\", outputCol=\"ocean_proximity_index\")\n",
        "data = indexer.fit(data).transform(data)\n",
        "encoder = OneHotEncoder(inputCol=\"ocean_proximity_index\", outputCol=\"ocean_proximity_encoded\")\n",
        "encModel = encoder.fit(data)\n",
        "data = encModel.transform(data)\n",
        "\n",
        "\n",
        "data.show(5)\n",
        "print(\"Total number of rows:\", data.count())"
      ],
      "metadata": {
        "colab": {
          "base_uri": "https://localhost:8080/"
        },
        "id": "1aJo5Gu1G-06",
        "outputId": "645a95f8-08d6-4000-d8fd-1834107d1a14"
      },
      "id": "1aJo5Gu1G-06",
      "execution_count": 159,
      "outputs": [
        {
          "output_type": "stream",
          "name": "stdout",
          "text": [
            "+---------+--------+------------------+-----------+--------------+----------+----------+-------------+------------------+---------------+---------------------+-----------------------+\n",
            "|longitude|latitude|housing_median_age|total_rooms|total_bedrooms|population|households|median_income|median_house_value|ocean_proximity|ocean_proximity_index|ocean_proximity_encoded|\n",
            "+---------+--------+------------------+-----------+--------------+----------+----------+-------------+------------------+---------------+---------------------+-----------------------+\n",
            "|  -122.23|   37.88|              41.0|      880.0|         129.0|     322.0|     126.0|       8.3252|          452600.0|       NEAR BAY|                  3.0|          (4,[3],[1.0])|\n",
            "|  -122.22|   37.86|              21.0|     7099.0|        1106.0|    2401.0|    1138.0|       8.3014|          358500.0|       NEAR BAY|                  3.0|          (4,[3],[1.0])|\n",
            "|  -122.24|   37.85|              52.0|     1467.0|         190.0|     496.0|     177.0|       7.2574|          352100.0|       NEAR BAY|                  3.0|          (4,[3],[1.0])|\n",
            "|  -122.25|   37.85|              52.0|     1274.0|         235.0|     558.0|     219.0|       5.6431|          341300.0|       NEAR BAY|                  3.0|          (4,[3],[1.0])|\n",
            "|  -122.25|   37.85|              52.0|     1627.0|         280.0|     565.0|     259.0|       3.8462|          342200.0|       NEAR BAY|                  3.0|          (4,[3],[1.0])|\n",
            "+---------+--------+------------------+-----------+--------------+----------+----------+-------------+------------------+---------------+---------------------+-----------------------+\n",
            "only showing top 5 rows\n",
            "\n",
            "Total number of rows: 20640\n"
          ]
        }
      ]
    },
    {
      "cell_type": "code",
      "source": [
        "# Handle missing values in total_bedrooms column\n",
        "data = data.fillna(data.approxQuantile(\"total_bedrooms\", [0.5], 0.001)[0], subset=[\"total_bedrooms\"])"
      ],
      "metadata": {
        "id": "G_9ZBYnAMDNM"
      },
      "id": "G_9ZBYnAMDNM",
      "execution_count": 160,
      "outputs": []
    },
    {
      "cell_type": "code",
      "source": [
        "def rfe_feature_selection(data, features, target_col, num_features, estimator):\n",
        "    # Initialize remaining features and selected features\n",
        "    remaining_features = features\n",
        "    selected_features = []\n",
        "\n",
        "    while len(selected_features) < num_features:\n",
        "        # Create VectorAssembler for remaining features\n",
        "        assembler = VectorAssembler(inputCols=remaining_features, outputCol=\"features\")\n",
        "        data_assembled = assembler.transform(data)\n",
        "\n",
        "        # Train Random Forest model\n",
        "        rf = estimator(labelCol=target_col, featuresCol=\"features\")\n",
        "        model = rf.fit(data_assembled)\n",
        "\n",
        "        # Get feature importances\n",
        "        importances = model.featureImportances\n",
        "\n",
        "        # Convert SparseVector to dense representation\n",
        "        importances_dense = importances.toArray()\n",
        "\n",
        "\n",
        "        # Find the least important feature\n",
        "        least_important_feature_index = np.argmin(importances_dense)\n",
        "\n",
        "        least_important_feature = remaining_features[least_important_feature_index]\n",
        "\n",
        "\n",
        "        # Remove least important feature from remaining features\n",
        "        remaining_features.remove(least_important_feature)\n",
        "\n",
        "        # Add least important feature to selected features\n",
        "        selected_features.append(least_important_feature)\n",
        "\n",
        "    # Select final features\n",
        "    return data.select(selected_features + [target_col])\n"
      ],
      "metadata": {
        "id": "7g2M9OaQS9Oi"
      },
      "id": "7g2M9OaQS9Oi",
      "execution_count": 161,
      "outputs": []
    },
    {
      "cell_type": "code",
      "source": [
        "# Select reamining features except target column\n",
        "features = [col for col in data.columns if col != \"ocean_proximity_encoded\" and col != \"ocean_proximity\"]\n",
        "\n",
        "# Eleminate not necassary features\n",
        "num_features = 8  # Smaller Values giving very bad results\n",
        "data_filtered = rfe_feature_selection(data, features, \"median_house_value\", num_features, RandomForestRegressor)"
      ],
      "metadata": {
        "id": "jWsM6qkYk_ZY"
      },
      "id": "jWsM6qkYk_ZY",
      "execution_count": 162,
      "outputs": []
    },
    {
      "cell_type": "code",
      "source": [
        "print(data_filtered.columns)"
      ],
      "metadata": {
        "colab": {
          "base_uri": "https://localhost:8080/"
        },
        "id": "scW9t0IyxooH",
        "outputId": "4578eeee-ecf9-42b5-ec6d-da7fc62bc734"
      },
      "id": "scW9t0IyxooH",
      "execution_count": 163,
      "outputs": [
        {
          "output_type": "stream",
          "name": "stdout",
          "text": [
            "['total_bedrooms', 'households', 'population', 'total_rooms', 'housing_median_age', 'longitude', 'latitude', 'median_income', 'median_house_value']\n"
          ]
        }
      ]
    },
    {
      "cell_type": "code",
      "execution_count": 164,
      "outputs": [],
      "source": [
        "# Select reamining features except target column\n",
        "features = [col for col in data_filtered.columns if col != \"median_house_value\"]\n",
        "if \"ocean_proximity_index\" in features:\n",
        "    features.remove(\"ocean_proximity_index\")\n",
        "    features.append(\"ocean_proximity_encoded\")\n",
        "\n",
        "# Create a VectorAssembler to combine features into a single vector\n",
        "assembler = VectorAssembler(inputCols=features, outputCol=\"features\")\n",
        "data = assembler.transform(data)\n",
        "\n",
        "# Scale features\n",
        "scaler = StandardScaler(inputCol=\"features\", outputCol=\"scaledFeatures\")\n",
        "data = scaler.fit(data).transform(data)\n",
        "\n",
        "# Split data into training and testing sets\n",
        "train_data, test_data = data.randomSplit([0.8, 0.2], seed=42)"
      ],
      "metadata": {
        "ExecuteTime": {
          "start_time": "2024-03-31T10:06:24.196238500Z"
        },
        "id": "822e9168588838cf"
      },
      "id": "822e9168588838cf"
    },
    {
      "cell_type": "code",
      "execution_count": 165,
      "outputs": [],
      "source": [
        "# Create a Regression models\n",
        "models = [\n",
        "    (\"Linear Regression\", LinearRegression(labelCol=\"median_house_value\", featuresCol=\"scaledFeatures\")),\n",
        "    (\"Random Forest\", RandomForestRegressor(labelCol=\"median_house_value\", featuresCol=\"scaledFeatures\")),\n",
        "    (\"Gradient-Boosted Tree\", GBTRegressor(labelCol=\"median_house_value\", featuresCol=\"scaledFeatures\")),\n",
        "    (\"Decision Tree\", DecisionTreeRegressor(labelCol=\"median_house_value\", featuresCol=\"scaledFeatures\")),\n",
        "    (\"Generalized Linear Regression\", GeneralizedLinearRegression(labelCol=\"median_house_value\", featuresCol=\"scaledFeatures\")),\n",
        "    (\"Factorization Machines\", FMRegressor(labelCol=\"median_house_value\", featuresCol=\"scaledFeatures\"))\n",
        "]\n"
      ],
      "metadata": {
        "ExecuteTime": {
          "end_time": "2024-03-31T10:06:24.203242100Z",
          "start_time": "2024-03-31T10:06:24.202243800Z"
        },
        "id": "60fb64cb3b392151"
      },
      "id": "60fb64cb3b392151"
    },
    {
      "cell_type": "code",
      "execution_count": 166,
      "outputs": [
        {
          "output_type": "stream",
          "name": "stdout",
          "text": [
            "Model: Linear Regression\n",
            "    MSE: 5153988451.783638, RMSE: 71791.28395413776, R-squared: 0.6274906250019834\n",
            "Model: Random Forest\n",
            "    MSE: 5390224545.135438, RMSE: 73418.14860874278, R-squared: 0.6104164386102778\n",
            "Model: Gradient-Boosted Tree\n",
            "    MSE: 3210917002.299314, RMSE: 56664.953915972736, R-squared: 0.7679279461165479\n",
            "Model: Decision Tree\n",
            "    MSE: 5554288259.869394, RMSE: 74527.09748721866, R-squared: 0.5985585789338075\n",
            "Model: Generalized Linear Regression\n",
            "    MSE: 5153988451.783638, RMSE: 71791.28395413776, R-squared: 0.6274906250019834\n",
            "Model: Factorization Machines\n",
            "    MSE: 6482084990.653973, RMSE: 80511.39665074735, R-squared: 0.5315011954058797\n"
          ]
        }
      ],
      "source": [
        "evaluator = RegressionEvaluator(labelCol=\"median_house_value\", predictionCol=\"prediction\")\n",
        "\n",
        "for name, model in models:\n",
        "    model = model.fit(train_data)\n",
        "    predictions = model.transform(test_data)\n",
        "    mse = evaluator.evaluate(predictions, {evaluator.metricName: \"mse\"})\n",
        "    rmse = evaluator.evaluate(predictions, {evaluator.metricName: \"rmse\"})\n",
        "    r2 = evaluator.evaluate(predictions, {evaluator.metricName: \"r2\"})\n",
        "    print(f\"Model: {name}\")\n",
        "    print(f\"    MSE: {mse}, RMSE: {rmse}, R-squared: {r2}\")"
      ],
      "metadata": {
        "colab": {
          "base_uri": "https://localhost:8080/"
        },
        "id": "8a2487e1f4467642",
        "outputId": "6cdd5b90-f5c4-4131-c74b-86697473842c"
      },
      "id": "8a2487e1f4467642"
    },
    {
      "cell_type": "code",
      "execution_count": 172,
      "outputs": [],
      "source": [
        "# Train the best model\n",
        "best_model = GBTRegressor(labelCol=\"median_house_value\", featuresCol=\"scaledFeatures\")\n",
        "best_model = best_model.fit(train_data)\n"
      ],
      "metadata": {
        "ExecuteTime": {
          "start_time": "2024-03-31T10:06:24.202243800Z"
        },
        "id": "a5ec23491d23c152"
      },
      "id": "a5ec23491d23c152"
    },
    {
      "cell_type": "code",
      "source": [
        "# Evaluate best model\n",
        "evaluator = RegressionEvaluator(labelCol=\"median_house_value\", predictionCol=\"prediction\")\n",
        "predictions = best_model.transform(test_data)\n",
        "mse = evaluator.evaluate(predictions, {evaluator.metricName: \"mse\"})\n",
        "rmse = evaluator.evaluate(predictions, {evaluator.metricName: \"rmse\"})\n",
        "mae = evaluator.evaluate(predictions, {evaluator.metricName: \"mae\"})\n",
        "r2 = evaluator.evaluate(predictions, {evaluator.metricName: \"r2\"})\n",
        "explained_variance = evaluator.evaluate(predictions, {evaluator.metricName: \"var\"})\n",
        "\n",
        "\n",
        "# Print results\n",
        "print(f\"Best Model: Gradient-Boosted Tree\")\n",
        "print(f\"    MSE: {mse}, RMSE: {rmse}, MAE: {mae}, R-squared: {r2}, Explained Variance: {explained_variance}\")"
      ],
      "metadata": {
        "colab": {
          "base_uri": "https://localhost:8080/"
        },
        "id": "sc7Gpdng1d6y",
        "outputId": "f42d182d-dc02-47f7-e753-8018cce874ea"
      },
      "id": "sc7Gpdng1d6y",
      "execution_count": 171,
      "outputs": [
        {
          "output_type": "stream",
          "name": "stdout",
          "text": [
            "Best Model: Gradient-Boosted Tree\n",
            "    MSE: 3210917002.299314, RMSE: 56664.953915972736, MAE: 39837.32920705323, R-squared: 0.7679279461165479, Explained Variance: 10334394537.062147\n"
          ]
        }
      ]
    },
    {
      "cell_type": "code",
      "execution_count": 175,
      "outputs": [],
      "source": [
        "# Train the best model on the entire dataset\n",
        "best_model = GBTRegressor(labelCol=\"median_house_value\", featuresCol=\"scaledFeatures\")\n",
        "best_model = best_model.fit(data)\n",
        "\n",
        "# Save the model\n",
        "best_model.save(\"best_model\")"
      ],
      "metadata": {
        "id": "1f5016e517c7c4cf"
      },
      "id": "1f5016e517c7c4cf"
    },
    {
      "cell_type": "code",
      "source": [
        "# Zip the model\n",
        "import zipfile\n",
        "with zipfile.ZipFile(\"best_model.zip\", \"w\") as zf:\n",
        "    zf.write(\"best_model/data/\")\n",
        "    zf.write(\"best_model/metadata/\")\n",
        "    zf.write(\"best_model/treesMetadata/\")\n",
        ""
      ],
      "metadata": {
        "id": "M7QSb69z3YZy"
      },
      "id": "M7QSb69z3YZy",
      "execution_count": 177,
      "outputs": []
    },
    {
      "cell_type": "code",
      "source": [],
      "metadata": {
        "id": "UU39-W434LwA"
      },
      "id": "UU39-W434LwA",
      "execution_count": null,
      "outputs": []
    }
  ],
  "metadata": {
    "kernelspec": {
      "display_name": "Python 3",
      "language": "python",
      "name": "python3"
    },
    "language_info": {
      "codemirror_mode": {
        "name": "ipython",
        "version": 2
      },
      "file_extension": ".py",
      "mimetype": "text/x-python",
      "name": "python",
      "nbconvert_exporter": "python",
      "pygments_lexer": "ipython2",
      "version": "2.7.6"
    },
    "colab": {
      "provenance": [],
      "toc_visible": true
    }
  },
  "nbformat": 4,
  "nbformat_minor": 5
}